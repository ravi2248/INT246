{
 "cells": [
  {
   "cell_type": "code",
   "execution_count": 1,
   "metadata": {},
   "outputs": [],
   "source": [
    "import numpy as np"
   ]
  },
  {
   "cell_type": "code",
   "execution_count": 2,
   "metadata": {},
   "outputs": [
    {
     "name": "stdout",
     "output_type": "stream",
     "text": [
      "[[0.52447617 2.55571107 6.10309599]\n",
      " [4.64333966 5.23212927 4.10635961]\n",
      " [6.56174129 5.34395771 3.6376383 ]]\n"
     ]
    }
   ],
   "source": [
    "size=6\n",
    "no_of_emp=size//2\n",
    "pop=np.empty((no_of_emp,3))\n",
    "\n",
    "for i in range(pop.shape[0]):\n",
    "    for j in range(pop.shape[1]):\n",
    "        pop[i,j]=0+np.random.random((1,))*(8-0)\n",
    "print(pop)"
   ]
  },
  {
   "cell_type": "code",
   "execution_count": 3,
   "metadata": {},
   "outputs": [
    {
     "name": "stdout",
     "output_type": "stream",
     "text": [
      "[[0.52447617 2.55571107 6.10309599]\n",
      " [4.64333966 5.23212927 4.10635961]\n",
      " [6.56174129 5.34395771 3.6376383 ]]\n",
      "[0.022195333829636822, 0.014970515031108907, 0.011648665284082727]\n",
      "[0.52447617 2.55571107 6.10309599]\n",
      "[0, 0, 0]\n"
     ]
    }
   ],
   "source": [
    "def objective(pop):\n",
    "    f=[]\n",
    "    for i in range(pop.shape[0]):\n",
    "        f.append(pop[i,0]**2+pop[i,1]**2+pop[i,2]**2)\n",
    "    return f\n",
    "\n",
    "def fitness(pop):\n",
    "    o=objective(pop)\n",
    "    fit=[]\n",
    "    for i in o:\n",
    "        if(i<0):\n",
    "            fit.append(1-i)\n",
    "        else:\n",
    "            fit.append(1/(1+i))\n",
    "    return fit\n",
    "best=pop[np.argmax(fitness(pop)),:]\n",
    "trial=[0]*pop.shape[0]\n",
    "print(pop)\n",
    "print(fitness(pop))\n",
    "print(best)\n",
    "print(trial)"
   ]
  },
  {
   "cell_type": "code",
   "execution_count": 6,
   "metadata": {},
   "outputs": [
    {
     "name": "stdout",
     "output_type": "stream",
     "text": [
      "[[0.52447617 2.22378192 6.10309599]\n",
      " [4.64333966 5.23212927 3.89039145]\n",
      " [6.56174129 5.34395771 3.6376383 ]]\n",
      "[0, 0, 1]\n"
     ]
    }
   ],
   "source": [
    "import random\n",
    "def employee(pop,fit,lb,up,trial,no_of_emp):\n",
    "    for i in range(3):\n",
    "        p=random.randint(0,2)\n",
    "        while(i==p):\n",
    "            p=random.randint(0,2)\n",
    "        j=random.randint(0,pop.shape[1]-1)\n",
    "        new=pop[i,j]+np.random.uniform(low=-1,high=1,size=(1,))*(pop[i,j]-pop[p,j])\n",
    "        if(new<lb):\n",
    "            new=lb\n",
    "        if(new>up):\n",
    "            new=up\n",
    "        x_new=np.array([pop[i,:].copy()])\n",
    "        x_new[0,j]=new\n",
    "        f=fitness(x_new)\n",
    "        if(f>fit[i]):\n",
    "            pop[i,:]=x_new[:]\n",
    "            trial[i]=0\n",
    "        else:\n",
    "            trial[i]=trial[i]+1\n",
    "    return pop\n",
    "\n",
    "print(employee(pop,fitness(pop),0,8,trial,no_of_emp))\n",
    "print(trial)"
   ]
  },
  {
   "cell_type": "code",
   "execution_count": 7,
   "metadata": {},
   "outputs": [
    {
     "name": "stdout",
     "output_type": "stream",
     "text": [
      "[1.0, 0.701209456610565, 0.5557104135609906]\n"
     ]
    }
   ],
   "source": [
    "fit=fitness(pop)\n",
    "prob=[]\n",
    "for i in fit:\n",
    "    prob.append(0.9*(i/max(fit))+0.1)\n",
    "print(prob)"
   ]
  },
  {
   "cell_type": "code",
   "execution_count": 9,
   "metadata": {},
   "outputs": [
    {
     "name": "stdout",
     "output_type": "stream",
     "text": [
      "[[0.51949356 2.22378192 6.10309599]\n",
      " [3.1141468  5.23212927 3.89039145]\n",
      " [6.56174129 5.34395771 3.6376383 ]]\n",
      "[0, 0, 1]\n"
     ]
    }
   ],
   "source": [
    "def onlooker(prob,pop,lb,up,trial,fit,no_of_emp):\n",
    "    i=0\n",
    "    for _ in range(no_of_emp):\n",
    "        r=random.random()\n",
    "        if(i==3):\n",
    "            i=0\n",
    "        if(r<prob[i]):\n",
    "            p=random.randint(0,2)\n",
    "            while(i==p):\n",
    "                p=random.randint(0,2)\n",
    "            j=random.randint(0,pop.shape[1]-1)\n",
    "            new=pop[i,j]+np.random.uniform(low=-1,high=1,size=(1,))*(pop[i,j]-pop[p,j])\n",
    "            if(new<lb):\n",
    "                new=lb\n",
    "            if(new>up):\n",
    "                new=up\n",
    "            x_new=np.array([pop[i,:].copy()])\n",
    "            x_new[0,j]=new\n",
    "            f=fitness(x_new)\n",
    "            if(f>fit[i]):\n",
    "                pop[i,:]=x_new[:]\n",
    "                trial[i]=0\n",
    "            else:\n",
    "                trial[i]=trial[i]+1\n",
    "            i=i+1\n",
    "        else:\n",
    "            i=i+1\n",
    "    return pop\n",
    "print(onlooker(prob,pop,0,8,trial,fit,no_of_emp))\n",
    "print(trial)"
   ]
  },
  {
   "cell_type": "code",
   "execution_count": null,
   "metadata": {},
   "outputs": [],
   "source": []
  }
 ],
 "metadata": {
  "kernelspec": {
   "display_name": "Python 3",
   "language": "python",
   "name": "python3"
  },
  "language_info": {
   "codemirror_mode": {
    "name": "ipython",
    "version": 3
   },
   "file_extension": ".py",
   "mimetype": "text/x-python",
   "name": "python",
   "nbconvert_exporter": "python",
   "pygments_lexer": "ipython3",
   "version": "3.7.3"
  }
 },
 "nbformat": 4,
 "nbformat_minor": 2
}
